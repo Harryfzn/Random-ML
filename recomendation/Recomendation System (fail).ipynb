{
  "nbformat": 4,
  "nbformat_minor": 0,
  "metadata": {
    "colab": {
      "provenance": []
    },
    "kernelspec": {
      "name": "python3",
      "display_name": "Python 3"
    },
    "language_info": {
      "name": "python"
    },
    "accelerator": "GPU"
  },
  "cells": [
    {
      "cell_type": "code",
      "execution_count": null,
      "metadata": {
        "id": "GPAKy5OCTeQF"
      },
      "outputs": [],
      "source": [
        "!pip install -q tensorflow-recommenders\n",
        "!pip install -q --upgrade tensorflow-datasets"
      ]
    },
    {
      "cell_type": "code",
      "source": [
        "#Import libraries\n",
        "\n",
        "import pandas as pd\n",
        "import numpy as np\n",
        "import tensorflow as tf\n",
        "import matplotlib.pyplot as plt\n",
        "from tensorflow.keras import layers\n",
        "from tensorflow.keras.models import Model\n",
        "from tensorflow.keras.layers import Input, Embedding, Dot, Flatten\n",
        "from sklearn.model_selection import train_test_split"
      ],
      "metadata": {
        "id": "_yj63YaoDU8D"
      },
      "execution_count": null,
      "outputs": []
    },
    {
      "cell_type": "code",
      "source": [
        "#Store Data\n",
        "\n",
        "ratings_dataset = pd.read_csv('https://storage.googleapis.com/bogorism/dataPlaces/Rating.csv', encoding='unicode_escape')\n",
        "tourism_dataset = pd.read_csv('https://storage.googleapis.com/bogorism/dataPlaces/Place.csv', encoding='unicode_escape')\n",
        "\n",
        "ratings_dataset.head()"
      ],
      "metadata": {
        "id": "51bGvW7yX52a",
        "colab": {
          "base_uri": "https://localhost:8080/",
          "height": 206
        },
        "outputId": "6b2eab41-d63c-4c0c-981a-a6df2338db6e"
      },
      "execution_count": null,
      "outputs": [
        {
          "output_type": "execute_result",
          "data": {
            "text/plain": [
              "   User_Id  Place_Id  Place_Ratings\n",
              "0        1         5              5\n",
              "1        1       101              4\n",
              "2        1        20              4\n",
              "3        1       103              3\n",
              "4        1        89              3"
            ],
            "text/html": [
              "\n",
              "  <div id=\"df-834cb482-ccf3-4592-9083-2c2e85f299ab\">\n",
              "    <div class=\"colab-df-container\">\n",
              "      <div>\n",
              "<style scoped>\n",
              "    .dataframe tbody tr th:only-of-type {\n",
              "        vertical-align: middle;\n",
              "    }\n",
              "\n",
              "    .dataframe tbody tr th {\n",
              "        vertical-align: top;\n",
              "    }\n",
              "\n",
              "    .dataframe thead th {\n",
              "        text-align: right;\n",
              "    }\n",
              "</style>\n",
              "<table border=\"1\" class=\"dataframe\">\n",
              "  <thead>\n",
              "    <tr style=\"text-align: right;\">\n",
              "      <th></th>\n",
              "      <th>User_Id</th>\n",
              "      <th>Place_Id</th>\n",
              "      <th>Place_Ratings</th>\n",
              "    </tr>\n",
              "  </thead>\n",
              "  <tbody>\n",
              "    <tr>\n",
              "      <th>0</th>\n",
              "      <td>1</td>\n",
              "      <td>5</td>\n",
              "      <td>5</td>\n",
              "    </tr>\n",
              "    <tr>\n",
              "      <th>1</th>\n",
              "      <td>1</td>\n",
              "      <td>101</td>\n",
              "      <td>4</td>\n",
              "    </tr>\n",
              "    <tr>\n",
              "      <th>2</th>\n",
              "      <td>1</td>\n",
              "      <td>20</td>\n",
              "      <td>4</td>\n",
              "    </tr>\n",
              "    <tr>\n",
              "      <th>3</th>\n",
              "      <td>1</td>\n",
              "      <td>103</td>\n",
              "      <td>3</td>\n",
              "    </tr>\n",
              "    <tr>\n",
              "      <th>4</th>\n",
              "      <td>1</td>\n",
              "      <td>89</td>\n",
              "      <td>3</td>\n",
              "    </tr>\n",
              "  </tbody>\n",
              "</table>\n",
              "</div>\n",
              "      <button class=\"colab-df-convert\" onclick=\"convertToInteractive('df-834cb482-ccf3-4592-9083-2c2e85f299ab')\"\n",
              "              title=\"Convert this dataframe to an interactive table.\"\n",
              "              style=\"display:none;\">\n",
              "        \n",
              "  <svg xmlns=\"http://www.w3.org/2000/svg\" height=\"24px\"viewBox=\"0 0 24 24\"\n",
              "       width=\"24px\">\n",
              "    <path d=\"M0 0h24v24H0V0z\" fill=\"none\"/>\n",
              "    <path d=\"M18.56 5.44l.94 2.06.94-2.06 2.06-.94-2.06-.94-.94-2.06-.94 2.06-2.06.94zm-11 1L8.5 8.5l.94-2.06 2.06-.94-2.06-.94L8.5 2.5l-.94 2.06-2.06.94zm10 10l.94 2.06.94-2.06 2.06-.94-2.06-.94-.94-2.06-.94 2.06-2.06.94z\"/><path d=\"M17.41 7.96l-1.37-1.37c-.4-.4-.92-.59-1.43-.59-.52 0-1.04.2-1.43.59L10.3 9.45l-7.72 7.72c-.78.78-.78 2.05 0 2.83L4 21.41c.39.39.9.59 1.41.59.51 0 1.02-.2 1.41-.59l7.78-7.78 2.81-2.81c.8-.78.8-2.07 0-2.86zM5.41 20L4 18.59l7.72-7.72 1.47 1.35L5.41 20z\"/>\n",
              "  </svg>\n",
              "      </button>\n",
              "      \n",
              "  <style>\n",
              "    .colab-df-container {\n",
              "      display:flex;\n",
              "      flex-wrap:wrap;\n",
              "      gap: 12px;\n",
              "    }\n",
              "\n",
              "    .colab-df-convert {\n",
              "      background-color: #E8F0FE;\n",
              "      border: none;\n",
              "      border-radius: 50%;\n",
              "      cursor: pointer;\n",
              "      display: none;\n",
              "      fill: #1967D2;\n",
              "      height: 32px;\n",
              "      padding: 0 0 0 0;\n",
              "      width: 32px;\n",
              "    }\n",
              "\n",
              "    .colab-df-convert:hover {\n",
              "      background-color: #E2EBFA;\n",
              "      box-shadow: 0px 1px 2px rgba(60, 64, 67, 0.3), 0px 1px 3px 1px rgba(60, 64, 67, 0.15);\n",
              "      fill: #174EA6;\n",
              "    }\n",
              "\n",
              "    [theme=dark] .colab-df-convert {\n",
              "      background-color: #3B4455;\n",
              "      fill: #D2E3FC;\n",
              "    }\n",
              "\n",
              "    [theme=dark] .colab-df-convert:hover {\n",
              "      background-color: #434B5C;\n",
              "      box-shadow: 0px 1px 3px 1px rgba(0, 0, 0, 0.15);\n",
              "      filter: drop-shadow(0px 1px 2px rgba(0, 0, 0, 0.3));\n",
              "      fill: #FFFFFF;\n",
              "    }\n",
              "  </style>\n",
              "\n",
              "      <script>\n",
              "        const buttonEl =\n",
              "          document.querySelector('#df-834cb482-ccf3-4592-9083-2c2e85f299ab button.colab-df-convert');\n",
              "        buttonEl.style.display =\n",
              "          google.colab.kernel.accessAllowed ? 'block' : 'none';\n",
              "\n",
              "        async function convertToInteractive(key) {\n",
              "          const element = document.querySelector('#df-834cb482-ccf3-4592-9083-2c2e85f299ab');\n",
              "          const dataTable =\n",
              "            await google.colab.kernel.invokeFunction('convertToInteractive',\n",
              "                                                     [key], {});\n",
              "          if (!dataTable) return;\n",
              "\n",
              "          const docLinkHtml = 'Like what you see? Visit the ' +\n",
              "            '<a target=\"_blank\" href=https://colab.research.google.com/notebooks/data_table.ipynb>data table notebook</a>'\n",
              "            + ' to learn more about interactive tables.';\n",
              "          element.innerHTML = '';\n",
              "          dataTable['output_type'] = 'display_data';\n",
              "          await google.colab.output.renderOutput(dataTable, element);\n",
              "          const docLink = document.createElement('div');\n",
              "          docLink.innerHTML = docLinkHtml;\n",
              "          element.appendChild(docLink);\n",
              "        }\n",
              "      </script>\n",
              "    </div>\n",
              "  </div>\n",
              "  "
            ]
          },
          "metadata": {},
          "execution_count": 11
        }
      ]
    },
    {
      "cell_type": "code",
      "source": [
        "total_place = ratings_dataset.Place_Id.nunique()\n",
        "total_user = ratings_dataset.User_Id.nunique()"
      ],
      "metadata": {
        "id": "CZhlAaog_gYi"
      },
      "execution_count": null,
      "outputs": []
    },
    {
      "cell_type": "code",
      "source": [
        "train, test = train_test_split(ratings_dataset, test_size=0.1)\n",
        "FEATURES = 4"
      ],
      "metadata": {
        "id": "hJPUY7L3Al6D"
      },
      "execution_count": null,
      "outputs": []
    },
    {
      "cell_type": "code",
      "source": [
        "print(train.shape)\n",
        "print(test.shape)"
      ],
      "metadata": {
        "colab": {
          "base_uri": "https://localhost:8080/"
        },
        "id": "CH8AssaPbaGW",
        "outputId": "ca7ea437-1dcb-438a-c45b-2078f7c633a7"
      },
      "execution_count": null,
      "outputs": [
        {
          "output_type": "stream",
          "name": "stdout",
          "text": [
            "(2491, 3)\n",
            "(277, 3)\n"
          ]
        }
      ]
    },
    {
      "cell_type": "code",
      "source": [
        "tiny_model = tf.keras.Sequential([\n",
        "    layers.Dense(16, activation='elu', input_shape=(FEATURES,)),\n",
        "    layers.Dense(1)\n",
        "])"
      ],
      "metadata": {
        "id": "q5c4X7T3J8Tt"
      },
      "execution_count": null,
      "outputs": []
    },
    {
      "cell_type": "code",
      "source": [
        "EMBEDDING_DIM = 3\n",
        "\n",
        "#input layers\n",
        "place_input = Input(shape = 1)\n",
        "user_input = Input(shape = 1)\n",
        "\n",
        "#embedding layers\n",
        "place_embedding = Embedding(total_place+1, EMBEDDING_DIM)(place_input)\n",
        "user_embedding = Embedding(total_user+1, EMBEDDING_DIM)(user_input)\n",
        "\n",
        "#flatten layers\n",
        "place_flat = Flatten()(place_embedding)\n",
        "user_flat = Flatten()(user_embedding)\n",
        "\n",
        "#output layers\n",
        "output = Dot(1)([place_flat, user_flat])\n",
        "\n",
        "model = Model([place_input, user_input], [output])"
      ],
      "metadata": {
        "id": "ZB6V6gdG3dkd"
      },
      "execution_count": null,
      "outputs": []
    },
    {
      "cell_type": "code",
      "source": [
        "model.summary()"
      ],
      "metadata": {
        "colab": {
          "base_uri": "https://localhost:8080/"
        },
        "id": "iR8--QlIa23f",
        "outputId": "8c4683ed-9211-4676-e438-296da52bee70"
      },
      "execution_count": null,
      "outputs": [
        {
          "output_type": "stream",
          "name": "stdout",
          "text": [
            "Model: \"model\"\n",
            "__________________________________________________________________________________________________\n",
            " Layer (type)                   Output Shape         Param #     Connected to                     \n",
            "==================================================================================================\n",
            " input_1 (InputLayer)           [(None, 1)]          0           []                               \n",
            "                                                                                                  \n",
            " input_2 (InputLayer)           [(None, 1)]          0           []                               \n",
            "                                                                                                  \n",
            " embedding (Embedding)          (None, 1, 3)         363         ['input_1[0][0]']                \n",
            "                                                                                                  \n",
            " embedding_1 (Embedding)        (None, 1, 3)         903         ['input_2[0][0]']                \n",
            "                                                                                                  \n",
            " flatten (Flatten)              (None, 3)            0           ['embedding[0][0]']              \n",
            "                                                                                                  \n",
            " flatten_1 (Flatten)            (None, 3)            0           ['embedding_1[0][0]']            \n",
            "                                                                                                  \n",
            " dot (Dot)                      (None, 1)            0           ['flatten[0][0]',                \n",
            "                                                                  'flatten_1[0][0]']              \n",
            "                                                                                                  \n",
            "==================================================================================================\n",
            "Total params: 1,266\n",
            "Trainable params: 1,266\n",
            "Non-trainable params: 0\n",
            "__________________________________________________________________________________________________\n"
          ]
        }
      ]
    },
    {
      "cell_type": "code",
      "source": [
        "model.compile(optimizer='adam', loss='mse')"
      ],
      "metadata": {
        "id": "gTSe5wWbax9H"
      },
      "execution_count": null,
      "outputs": []
    },
    {
      "cell_type": "code",
      "source": [
        "x = train.Place_Id, train.User_Id\n",
        "y= train.Place_Ratings"
      ],
      "metadata": {
        "id": "892TxFgvJM04"
      },
      "execution_count": null,
      "outputs": []
    },
    {
      "cell_type": "code",
      "source": [
        "model.fit(x, y, epochs = 30, batch_size = 5)"
      ],
      "metadata": {
        "colab": {
          "base_uri": "https://localhost:8080/"
        },
        "id": "X1PpqBnHHkXZ",
        "outputId": "2031219c-bfc6-4884-c2b9-6060493df497"
      },
      "execution_count": null,
      "outputs": [
        {
          "output_type": "stream",
          "name": "stdout",
          "text": [
            "Epoch 1/30\n",
            "499/499 [==============================] - 5s 4ms/step - loss: 11.0816\n",
            "Epoch 2/30\n",
            "499/499 [==============================] - 2s 3ms/step - loss: 11.0546\n",
            "Epoch 3/30\n",
            "499/499 [==============================] - 2s 3ms/step - loss: 10.9105\n",
            "Epoch 4/30\n",
            "499/499 [==============================] - 2s 5ms/step - loss: 10.5609\n",
            "Epoch 5/30\n",
            "499/499 [==============================] - 3s 5ms/step - loss: 9.9965\n",
            "Epoch 6/30\n",
            "499/499 [==============================] - 3s 5ms/step - loss: 9.2395\n",
            "Epoch 7/30\n",
            "499/499 [==============================] - 3s 6ms/step - loss: 8.3360\n",
            "Epoch 8/30\n",
            "499/499 [==============================] - 3s 6ms/step - loss: 7.3475\n",
            "Epoch 9/30\n",
            "499/499 [==============================] - 3s 6ms/step - loss: 6.3481\n",
            "Epoch 10/30\n",
            "499/499 [==============================] - 2s 5ms/step - loss: 5.3919\n",
            "Epoch 11/30\n",
            "499/499 [==============================] - 2s 3ms/step - loss: 4.5334\n",
            "Epoch 12/30\n",
            "499/499 [==============================] - 2s 3ms/step - loss: 3.8045\n",
            "Epoch 13/30\n",
            "499/499 [==============================] - 2s 3ms/step - loss: 3.2165\n",
            "Epoch 14/30\n",
            "499/499 [==============================] - 1s 3ms/step - loss: 2.7605\n",
            "Epoch 15/30\n",
            "499/499 [==============================] - 2s 3ms/step - loss: 2.4232\n",
            "Epoch 16/30\n",
            "499/499 [==============================] - 1s 3ms/step - loss: 2.1788\n",
            "Epoch 17/30\n",
            "499/499 [==============================] - 2s 3ms/step - loss: 2.0056\n",
            "Epoch 18/30\n",
            "499/499 [==============================] - 2s 3ms/step - loss: 1.8856\n",
            "Epoch 19/30\n",
            "499/499 [==============================] - 2s 3ms/step - loss: 1.8005\n",
            "Epoch 20/30\n",
            "499/499 [==============================] - 2s 3ms/step - loss: 1.7398\n",
            "Epoch 21/30\n",
            "499/499 [==============================] - 2s 3ms/step - loss: 1.6960\n",
            "Epoch 22/30\n",
            "499/499 [==============================] - 2s 3ms/step - loss: 1.6634\n",
            "Epoch 23/30\n",
            "499/499 [==============================] - 2s 3ms/step - loss: 1.6401\n",
            "Epoch 24/30\n",
            "499/499 [==============================] - 2s 3ms/step - loss: 1.6214\n",
            "Epoch 25/30\n",
            "499/499 [==============================] - 2s 3ms/step - loss: 1.6051\n",
            "Epoch 26/30\n",
            "499/499 [==============================] - 2s 3ms/step - loss: 1.5941\n",
            "Epoch 27/30\n",
            "499/499 [==============================] - 2s 3ms/step - loss: 1.5830\n",
            "Epoch 28/30\n",
            "499/499 [==============================] - 2s 3ms/step - loss: 1.5747\n",
            "Epoch 29/30\n",
            "499/499 [==============================] - 2s 3ms/step - loss: 1.5675\n",
            "Epoch 30/30\n",
            "499/499 [==============================] - 2s 3ms/step - loss: 1.5595\n"
          ]
        },
        {
          "output_type": "execute_result",
          "data": {
            "text/plain": [
              "<keras.callbacks.History at 0x7f7b0478d850>"
            ]
          },
          "metadata": {},
          "execution_count": 18
        }
      ]
    },
    {
      "cell_type": "code",
      "source": [
        "model.evaluate(x = [test.Place_Id, test.User_Id], y= [test.Place_Ratings])"
      ],
      "metadata": {
        "colab": {
          "base_uri": "https://localhost:8080/"
        },
        "id": "yHTBlD5J0vKf",
        "outputId": "cd0f8a39-713f-44be-c48e-eb2b68076d43"
      },
      "execution_count": null,
      "outputs": [
        {
          "output_type": "stream",
          "name": "stdout",
          "text": [
            "9/9 [==============================] - 0s 2ms/step - loss: 2.3100\n"
          ]
        },
        {
          "output_type": "execute_result",
          "data": {
            "text/plain": [
              "2.310004472732544"
            ]
          },
          "metadata": {},
          "execution_count": 19
        }
      ]
    },
    {
      "cell_type": "code",
      "source": [
        "model.save('model.h5')"
      ],
      "metadata": {
        "id": "-7h7uRRM-O5q"
      },
      "execution_count": null,
      "outputs": []
    },
    {
      "cell_type": "code",
      "source": [
        "def place_recommendations(User_Id,tourism_dataset, model):\n",
        "  tourism_dataset = tourism_dataset.copy()\n",
        "  User_ids = np.array([User_Id] * len(tourism_dataset))\n",
        "  results = model([tourism_dataset.Place_Id.values, User_ids]).numpy().reshape(-1)\n",
        "\n",
        "  tourism_dataset['predicted_rating'] = pd.Places(results)\n",
        "  tourism_dataset = tourism_dataset.sort_values('predicted_rating', ascending = False)\n",
        "\n",
        "  print(f'Recommendations for user {User_Id}')\n",
        "  return tourism_dataset\n",
        "\n",
        "  get_recommendations(1, tourism_dataset, model)"
      ],
      "metadata": {
        "id": "sXwBfX3n-0IY"
      },
      "execution_count": null,
      "outputs": []
    },
    {
      "cell_type": "code",
      "source": [
        "def get_embedding(tourism_dataset, model):\n",
        "  vectors = model.layers[2](tourism_dataset.Place_Id.values).numpy()\n",
        "  vectors = pd.DataFrame(vectors)\n",
        "  vectors.to_csv('vectors.tsv', sep='\\t', header=False)\n",
        "\n",
        "  tourism_dataset.to_csv('meta.tsv', sep='\\t')\n",
        "\n",
        "  get_embedding(tourism_dataset, model)"
      ],
      "metadata": {
        "id": "fR4F3Qu5COby"
      },
      "execution_count": null,
      "outputs": []
    }
  ]
}