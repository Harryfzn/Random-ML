{
  "nbformat": 4,
  "nbformat_minor": 0,
  "metadata": {
    "colab": {
      "provenance": [],
      "gpuType": "T4"
    },
    "kernelspec": {
      "name": "python3",
      "display_name": "Python 3"
    },
    "language_info": {
      "name": "python"
    },
    "accelerator": "GPU"
  },
  "cells": [
    {
      "cell_type": "code",
      "execution_count": null,
      "metadata": {
        "id": "QGuiWUJIrEg3",
        "colab": {
          "base_uri": "https://localhost:8080/"
        },
        "outputId": "fc76282d-ee7c-4372-8e52-6f43ca4d18d8"
      },
      "outputs": [
        {
          "output_type": "stream",
          "name": "stdout",
          "text": [
            "Collecting tensorflow-addons\n",
            "  Downloading tensorflow_addons-0.23.0-cp310-cp310-manylinux_2_17_x86_64.manylinux2014_x86_64.whl (611 kB)\n",
            "\u001b[?25l     \u001b[90m━━━━━━━━━━━━━━━━━━━━━━━━━━━━━━━━━━━━━━━━\u001b[0m \u001b[32m0.0/611.8 kB\u001b[0m \u001b[31m?\u001b[0m eta \u001b[36m-:--:--\u001b[0m\r\u001b[2K     \u001b[91m━━━━━━━━━━━\u001b[0m\u001b[90m╺\u001b[0m\u001b[90m━━━━━━━━━━━━━━━━━━━━━━━━━━━━\u001b[0m \u001b[32m174.1/611.8 kB\u001b[0m \u001b[31m5.3 MB/s\u001b[0m eta \u001b[36m0:00:01\u001b[0m\r\u001b[2K     \u001b[91m━━━━━━━━━━━━━━━━━━━━━━━━━━━━━━━━━━━━\u001b[0m\u001b[91m╸\u001b[0m\u001b[90m━━━\u001b[0m \u001b[32m563.2/611.8 kB\u001b[0m \u001b[31m8.4 MB/s\u001b[0m eta \u001b[36m0:00:01\u001b[0m\r\u001b[2K     \u001b[90m━━━━━━━━━━━━━━━━━━━━━━━━━━━━━━━━━━━━━━━━\u001b[0m \u001b[32m611.8/611.8 kB\u001b[0m \u001b[31m7.6 MB/s\u001b[0m eta \u001b[36m0:00:00\u001b[0m\n",
            "\u001b[?25hRequirement already satisfied: packaging in /usr/local/lib/python3.10/dist-packages (from tensorflow-addons) (24.1)\n",
            "Collecting typeguard<3.0.0,>=2.7 (from tensorflow-addons)\n",
            "  Downloading typeguard-2.13.3-py3-none-any.whl (17 kB)\n",
            "Installing collected packages: typeguard, tensorflow-addons\n",
            "Successfully installed tensorflow-addons-0.23.0 typeguard-2.13.3\n"
          ]
        },
        {
          "output_type": "stream",
          "name": "stderr",
          "text": [
            "/usr/local/lib/python3.10/dist-packages/tensorflow_addons/utils/tfa_eol_msg.py:23: UserWarning: \n",
            "\n",
            "TensorFlow Addons (TFA) has ended development and introduction of new features.\n",
            "TFA has entered a minimal maintenance and release mode until a planned end of life in May 2024.\n",
            "Please modify downstream libraries to take dependencies from other repositories in our TensorFlow community (e.g. Keras, Keras-CV, and Keras-NLP). \n",
            "\n",
            "For more information see: https://github.com/tensorflow/addons/issues/2807 \n",
            "\n",
            "  warnings.warn(\n"
          ]
        }
      ],
      "source": [
        "!pip install tensorflow-addons\n",
        "\n",
        "import matplotlib.pyplot as plt\n",
        "import os\n",
        "from google.colab import files\n",
        "\n",
        "import numpy as np\n",
        "import tensorflow as tf\n",
        "from tensorflow import keras\n",
        "from tensorflow.keras import layers\n",
        "import tensorflow_datasets as tfds\n",
        "import zipfile\n",
        "import os\n",
        "import shutil\n",
        "import tensorflow as tf\n",
        "import random\n",
        "import keras\n",
        "from keras import layers\n",
        "import tensorflow_addons as tfa"
      ]
    },
    {
      "cell_type": "code",
      "source": [
        "#import data\n",
        "from google.colab import files\n",
        "files.upload()\n",
        "!rm -r ~/.kaggle\n",
        "!mkdir ~/.kaggle\n",
        "!mv ./kaggle.json ~/.kaggle/\n",
        "!chmod 600 ~/.kaggle/kaggle.json"
      ],
      "metadata": {
        "colab": {
          "base_uri": "https://localhost:8080/",
          "height": 90
        },
        "id": "MROiwZHNrQ6-",
        "outputId": "33b3137c-d248-403f-a907-996f1b8fdc51"
      },
      "execution_count": null,
      "outputs": [
        {
          "output_type": "display_data",
          "data": {
            "text/plain": [
              "<IPython.core.display.HTML object>"
            ],
            "text/html": [
              "\n",
              "     <input type=\"file\" id=\"files-35845f5b-fdd8-40f7-8b03-378fe0238e5e\" name=\"files[]\" multiple disabled\n",
              "        style=\"border:none\" />\n",
              "     <output id=\"result-35845f5b-fdd8-40f7-8b03-378fe0238e5e\">\n",
              "      Upload widget is only available when the cell has been executed in the\n",
              "      current browser session. Please rerun this cell to enable.\n",
              "      </output>\n",
              "      <script>// Copyright 2017 Google LLC\n",
              "//\n",
              "// Licensed under the Apache License, Version 2.0 (the \"License\");\n",
              "// you may not use this file except in compliance with the License.\n",
              "// You may obtain a copy of the License at\n",
              "//\n",
              "//      http://www.apache.org/licenses/LICENSE-2.0\n",
              "//\n",
              "// Unless required by applicable law or agreed to in writing, software\n",
              "// distributed under the License is distributed on an \"AS IS\" BASIS,\n",
              "// WITHOUT WARRANTIES OR CONDITIONS OF ANY KIND, either express or implied.\n",
              "// See the License for the specific language governing permissions and\n",
              "// limitations under the License.\n",
              "\n",
              "/**\n",
              " * @fileoverview Helpers for google.colab Python module.\n",
              " */\n",
              "(function(scope) {\n",
              "function span(text, styleAttributes = {}) {\n",
              "  const element = document.createElement('span');\n",
              "  element.textContent = text;\n",
              "  for (const key of Object.keys(styleAttributes)) {\n",
              "    element.style[key] = styleAttributes[key];\n",
              "  }\n",
              "  return element;\n",
              "}\n",
              "\n",
              "// Max number of bytes which will be uploaded at a time.\n",
              "const MAX_PAYLOAD_SIZE = 100 * 1024;\n",
              "\n",
              "function _uploadFiles(inputId, outputId) {\n",
              "  const steps = uploadFilesStep(inputId, outputId);\n",
              "  const outputElement = document.getElementById(outputId);\n",
              "  // Cache steps on the outputElement to make it available for the next call\n",
              "  // to uploadFilesContinue from Python.\n",
              "  outputElement.steps = steps;\n",
              "\n",
              "  return _uploadFilesContinue(outputId);\n",
              "}\n",
              "\n",
              "// This is roughly an async generator (not supported in the browser yet),\n",
              "// where there are multiple asynchronous steps and the Python side is going\n",
              "// to poll for completion of each step.\n",
              "// This uses a Promise to block the python side on completion of each step,\n",
              "// then passes the result of the previous step as the input to the next step.\n",
              "function _uploadFilesContinue(outputId) {\n",
              "  const outputElement = document.getElementById(outputId);\n",
              "  const steps = outputElement.steps;\n",
              "\n",
              "  const next = steps.next(outputElement.lastPromiseValue);\n",
              "  return Promise.resolve(next.value.promise).then((value) => {\n",
              "    // Cache the last promise value to make it available to the next\n",
              "    // step of the generator.\n",
              "    outputElement.lastPromiseValue = value;\n",
              "    return next.value.response;\n",
              "  });\n",
              "}\n",
              "\n",
              "/**\n",
              " * Generator function which is called between each async step of the upload\n",
              " * process.\n",
              " * @param {string} inputId Element ID of the input file picker element.\n",
              " * @param {string} outputId Element ID of the output display.\n",
              " * @return {!Iterable<!Object>} Iterable of next steps.\n",
              " */\n",
              "function* uploadFilesStep(inputId, outputId) {\n",
              "  const inputElement = document.getElementById(inputId);\n",
              "  inputElement.disabled = false;\n",
              "\n",
              "  const outputElement = document.getElementById(outputId);\n",
              "  outputElement.innerHTML = '';\n",
              "\n",
              "  const pickedPromise = new Promise((resolve) => {\n",
              "    inputElement.addEventListener('change', (e) => {\n",
              "      resolve(e.target.files);\n",
              "    });\n",
              "  });\n",
              "\n",
              "  const cancel = document.createElement('button');\n",
              "  inputElement.parentElement.appendChild(cancel);\n",
              "  cancel.textContent = 'Cancel upload';\n",
              "  const cancelPromise = new Promise((resolve) => {\n",
              "    cancel.onclick = () => {\n",
              "      resolve(null);\n",
              "    };\n",
              "  });\n",
              "\n",
              "  // Wait for the user to pick the files.\n",
              "  const files = yield {\n",
              "    promise: Promise.race([pickedPromise, cancelPromise]),\n",
              "    response: {\n",
              "      action: 'starting',\n",
              "    }\n",
              "  };\n",
              "\n",
              "  cancel.remove();\n",
              "\n",
              "  // Disable the input element since further picks are not allowed.\n",
              "  inputElement.disabled = true;\n",
              "\n",
              "  if (!files) {\n",
              "    return {\n",
              "      response: {\n",
              "        action: 'complete',\n",
              "      }\n",
              "    };\n",
              "  }\n",
              "\n",
              "  for (const file of files) {\n",
              "    const li = document.createElement('li');\n",
              "    li.append(span(file.name, {fontWeight: 'bold'}));\n",
              "    li.append(span(\n",
              "        `(${file.type || 'n/a'}) - ${file.size} bytes, ` +\n",
              "        `last modified: ${\n",
              "            file.lastModifiedDate ? file.lastModifiedDate.toLocaleDateString() :\n",
              "                                    'n/a'} - `));\n",
              "    const percent = span('0% done');\n",
              "    li.appendChild(percent);\n",
              "\n",
              "    outputElement.appendChild(li);\n",
              "\n",
              "    const fileDataPromise = new Promise((resolve) => {\n",
              "      const reader = new FileReader();\n",
              "      reader.onload = (e) => {\n",
              "        resolve(e.target.result);\n",
              "      };\n",
              "      reader.readAsArrayBuffer(file);\n",
              "    });\n",
              "    // Wait for the data to be ready.\n",
              "    let fileData = yield {\n",
              "      promise: fileDataPromise,\n",
              "      response: {\n",
              "        action: 'continue',\n",
              "      }\n",
              "    };\n",
              "\n",
              "    // Use a chunked sending to avoid message size limits. See b/62115660.\n",
              "    let position = 0;\n",
              "    do {\n",
              "      const length = Math.min(fileData.byteLength - position, MAX_PAYLOAD_SIZE);\n",
              "      const chunk = new Uint8Array(fileData, position, length);\n",
              "      position += length;\n",
              "\n",
              "      const base64 = btoa(String.fromCharCode.apply(null, chunk));\n",
              "      yield {\n",
              "        response: {\n",
              "          action: 'append',\n",
              "          file: file.name,\n",
              "          data: base64,\n",
              "        },\n",
              "      };\n",
              "\n",
              "      let percentDone = fileData.byteLength === 0 ?\n",
              "          100 :\n",
              "          Math.round((position / fileData.byteLength) * 100);\n",
              "      percent.textContent = `${percentDone}% done`;\n",
              "\n",
              "    } while (position < fileData.byteLength);\n",
              "  }\n",
              "\n",
              "  // All done.\n",
              "  yield {\n",
              "    response: {\n",
              "      action: 'complete',\n",
              "    }\n",
              "  };\n",
              "}\n",
              "\n",
              "scope.google = scope.google || {};\n",
              "scope.google.colab = scope.google.colab || {};\n",
              "scope.google.colab._files = {\n",
              "  _uploadFiles,\n",
              "  _uploadFilesContinue,\n",
              "};\n",
              "})(self);\n",
              "</script> "
            ]
          },
          "metadata": {}
        },
        {
          "output_type": "stream",
          "name": "stdout",
          "text": [
            "Saving kaggle.json to kaggle.json\n",
            "rm: cannot remove '/root/.kaggle': No such file or directory\n"
          ]
        }
      ]
    },
    {
      "cell_type": "code",
      "source": [
        "!kaggle datasets download -d vencerlanz09/sea-animals-image-dataste"
      ],
      "metadata": {
        "colab": {
          "base_uri": "https://localhost:8080/"
        },
        "id": "TJzRAJ3GrZWf",
        "outputId": "ad6ed6ee-8bfe-4f58-d9a3-a44a4325b899"
      },
      "execution_count": null,
      "outputs": [
        {
          "output_type": "stream",
          "name": "stdout",
          "text": [
            "Dataset URL: https://www.kaggle.com/datasets/vencerlanz09/sea-animals-image-dataste\n",
            "License(s): other\n",
            "Downloading sea-animals-image-dataste.zip to /content\n",
            " 99% 309M/312M [00:03<00:00, 58.6MB/s]\n",
            "100% 312M/312M [00:03<00:00, 82.7MB/s]\n"
          ]
        }
      ]
    },
    {
      "cell_type": "code",
      "source": [
        "# Path ke file ZIP\n",
        "zip_path = '/content/sea-animals-image-dataste.zip'\n",
        "\n",
        "# Nama folder baru untuk ekstraksi\n",
        "extract_folder_name = 'dataset'\n",
        "\n",
        "# Path lengkap ke folder ekstraksi\n",
        "extract_folder_path = os.path.join('/content', extract_folder_name)\n",
        "\n",
        "# Membuat folder ekstraksi jika belum ada\n",
        "os.makedirs(extract_folder_path, exist_ok=True)\n",
        "\n",
        "# Membuka file ZIP dan mengekstraknya ke folder baru\n",
        "with zipfile.ZipFile(zip_path, 'r') as zip_ref:\n",
        "    zip_ref.extractall(extract_folder_path)\n",
        "\n",
        "print(f\"File diekstrak ke folder: {extract_folder_path}\")\n"
      ],
      "metadata": {
        "colab": {
          "base_uri": "https://localhost:8080/"
        },
        "id": "WpaF_zLYrezv",
        "outputId": "39a60564-0e5f-4b39-c549-67833ae30043"
      },
      "execution_count": null,
      "outputs": [
        {
          "output_type": "stream",
          "name": "stdout",
          "text": [
            "File diekstrak ke folder: /content/dataset\n"
          ]
        }
      ]
    },
    {
      "cell_type": "code",
      "source": [
        "# melihat setiap kelas\n",
        "import os\n",
        "print(os.listdir(\"/content/dataset\"))"
      ],
      "metadata": {
        "colab": {
          "base_uri": "https://localhost:8080/"
        },
        "id": "4MxLku8lridX",
        "outputId": "0b0c1647-d2b8-4ab9-a494-f8ca3182d2f2"
      },
      "execution_count": null,
      "outputs": [
        {
          "output_type": "stream",
          "name": "stdout",
          "text": [
            "['Clams', 'Sharks', 'Turtle_Tortoise', 'Penguin', 'Sea Urchins', 'Corals', 'Nudibranchs', 'Starfish', 'Shrimp', 'Fish', 'Lobster', 'Sea Rays', 'Squid', 'Whale', 'Jelly Fish', 'Seal', 'Crabs', 'Seahorse', 'Puffers', 'Octopus', 'Otter', 'Eel', 'Dolphin']\n"
          ]
        }
      ]
    },
    {
      "cell_type": "code",
      "source": [
        "import os\n",
        "import shutil\n",
        "import random\n",
        "\n",
        "#menentukan kelas\n",
        "class_names= ['Fish', 'Octopus', 'Jelly Fish', 'Crabs']\n",
        "\n",
        "# original path\n",
        "original_dataset_dir =\"/content/dataset\"\n",
        "\n",
        "# path baru\n",
        "base_dir = \"/content/dataset-2\"\n",
        "os.mkdir(base_dir)\n",
        "\n",
        "# folder baru train\n",
        "train_dir = os.path.join(base_dir, 'train')\n",
        "os.mkdir(train_dir)\n",
        "\n",
        "# folder baru validation\n",
        "validation_dir = os.path.join(base_dir, 'validation')\n",
        "os.mkdir(validation_dir)\n",
        "\n",
        "classes = class_names\n",
        "\n",
        "for cls in classes:\n",
        "    cls_dir = os.path.join(original_dataset_dir, cls)\n",
        "    files = os.listdir(cls_dir)\n",
        "    random.shuffle(files)\n",
        "\n",
        "    # split data\n",
        "    split_point = int(0.8 * len(files))\n",
        "    train_files = files[:split_point]\n",
        "    validation_files = files[split_point:]\n",
        "\n",
        "    train_cls_dir = os.path.join(train_dir, cls)\n",
        "    os.makedirs(train_cls_dir)\n",
        "\n",
        "    validation_cls_dir = os.path.join(validation_dir, cls)\n",
        "    os.makedirs(validation_cls_dir)\n",
        "\n",
        "   # memasukan data ke dalam folder\n",
        "    for file in train_files:\n",
        "        src = os.path.join(cls_dir, file)\n",
        "        dst = os.path.join(train_cls_dir, file)\n",
        "        shutil.copyfile(src, dst)\n",
        "\n",
        "    for file in validation_files:\n",
        "        src = os.path.join(cls_dir, file)\n",
        "        dst = os.path.join(validation_cls_dir, file)\n",
        "        shutil.copyfile(src, dst)"
      ],
      "metadata": {
        "id": "aNBw_b6TrlWX"
      },
      "execution_count": null,
      "outputs": []
    },
    {
      "cell_type": "code",
      "source": [
        "from tensorflow.keras.preprocessing.image import ImageDataGenerator\n",
        "\n",
        "training_dir=\"/content/dataset-2/train\"\n",
        "validation_dir=\"/content/dataset-2/validation\"\n",
        "\n",
        "image_size = (256,256)\n",
        "batch_size = 32\n",
        "seed = 999\n",
        "\n",
        "train_datagen = ImageDataGenerator(\n",
        "    rescale=1./255,\n",
        "    rotation_range=40,\n",
        "    width_shift_range=0.2,\n",
        "    height_shift_range=0.2,\n",
        "    shear_range=0.2,\n",
        "    zoom_range=0.2,\n",
        "    horizontal_flip=True)\n",
        "\n",
        "validation_datagen = ImageDataGenerator(rescale=1./255)\n",
        "\n",
        "\n",
        "\n",
        "train_data = train_datagen.flow_from_directory(\n",
        "    training_dir,\n",
        "    class_mode=\"categorical\",\n",
        "    target_size=image_size,\n",
        "    batch_size=batch_size,\n",
        "    seed=seed\n",
        ")\n",
        "\n",
        "valid_data = validation_datagen.flow_from_directory(\n",
        "    validation_dir,\n",
        "    class_mode='categorical',\n",
        "    target_size=image_size,\n",
        "    batch_size=batch_size,\n",
        "    seed=seed\n",
        ")"
      ],
      "metadata": {
        "colab": {
          "base_uri": "https://localhost:8080/"
        },
        "id": "MweVche9rpFo",
        "outputId": "3e89c522-4eb3-47bb-9974-15a11612f237"
      },
      "execution_count": null,
      "outputs": [
        {
          "output_type": "stream",
          "name": "stdout",
          "text": [
            "Found 1919 images belonging to 4 classes.\n",
            "Found 481 images belonging to 4 classes.\n"
          ]
        }
      ]
    },
    {
      "cell_type": "markdown",
      "source": [
        "# **Modeling**"
      ],
      "metadata": {
        "id": "YbwrPvHdtznA"
      }
    },
    {
      "cell_type": "code",
      "source": [
        "!pip install vit_keras\n",
        "!pip install tensorflow-addons\n",
        "\n",
        "from vit_keras import vit\n",
        "\n",
        "\n",
        "vit_model = vit.vit_b16(\n",
        "    image_size=(256, 256),  # Example: Adjusted to be a multiple of patch_size=16\n",
        "    activation='softmax',\n",
        "    pretrained=True,\n",
        "    include_top=False,\n",
        "    pretrained_top=False,\n",
        "    classes=4\n",
        ")"
      ],
      "metadata": {
        "colab": {
          "base_uri": "https://localhost:8080/"
        },
        "id": "mho74PclrsKH",
        "outputId": "1afdcc94-8f12-467b-9b74-328938a905eb"
      },
      "execution_count": null,
      "outputs": [
        {
          "output_type": "stream",
          "name": "stdout",
          "text": [
            "Collecting vit_keras\n",
            "  Downloading vit_keras-0.1.2-py3-none-any.whl (24 kB)\n",
            "Requirement already satisfied: scipy in /usr/local/lib/python3.10/dist-packages (from vit_keras) (1.11.4)\n",
            "Collecting validators (from vit_keras)\n",
            "  Downloading validators-0.30.0-py3-none-any.whl (42 kB)\n",
            "\u001b[2K     \u001b[90m━━━━━━━━━━━━━━━━━━━━━━━━━━━━━━━━━━━━━━━━\u001b[0m \u001b[32m42.4/42.4 kB\u001b[0m \u001b[31m2.4 MB/s\u001b[0m eta \u001b[36m0:00:00\u001b[0m\n",
            "\u001b[?25hRequirement already satisfied: numpy<1.28.0,>=1.21.6 in /usr/local/lib/python3.10/dist-packages (from scipy->vit_keras) (1.25.2)\n",
            "Installing collected packages: validators, vit_keras\n",
            "Successfully installed validators-0.30.0 vit_keras-0.1.2\n",
            "Requirement already satisfied: tensorflow-addons in /usr/local/lib/python3.10/dist-packages (0.23.0)\n",
            "Requirement already satisfied: packaging in /usr/local/lib/python3.10/dist-packages (from tensorflow-addons) (24.1)\n",
            "Requirement already satisfied: typeguard<3.0.0,>=2.7 in /usr/local/lib/python3.10/dist-packages (from tensorflow-addons) (2.13.3)\n",
            "Downloading data from https://github.com/faustomorales/vit-keras/releases/download/dl/ViT-B_16_imagenet21k+imagenet2012.npz\n",
            "347502902/347502902 [==============================] - 1s 0us/step\n"
          ]
        },
        {
          "output_type": "stream",
          "name": "stderr",
          "text": [
            "/usr/local/lib/python3.10/dist-packages/vit_keras/utils.py:81: UserWarning: Resizing position embeddings from 24, 24 to 16, 16\n",
            "  warnings.warn(\n"
          ]
        }
      ]
    },
    {
      "cell_type": "code",
      "source": [
        "vit_model.summary()"
      ],
      "metadata": {
        "colab": {
          "base_uri": "https://localhost:8080/"
        },
        "id": "5aqKFNopGJPu",
        "outputId": "c891f88d-b876-4e9d-ef57-913c58761315"
      },
      "execution_count": null,
      "outputs": [
        {
          "output_type": "stream",
          "name": "stdout",
          "text": [
            "Model: \"vit-b16\"\n",
            "_________________________________________________________________\n",
            " Layer (type)                Output Shape              Param #   \n",
            "=================================================================\n",
            " input_1 (InputLayer)        [(None, 256, 256, 3)]     0         \n",
            "                                                                 \n",
            " embedding (Conv2D)          (None, 16, 16, 768)       590592    \n",
            "                                                                 \n",
            " reshape (Reshape)           (None, 256, 768)          0         \n",
            "                                                                 \n",
            " class_token (ClassToken)    (None, 257, 768)          768       \n",
            "                                                                 \n",
            " Transformer/posembed_input  (None, 257, 768)          197376    \n",
            "  (AddPositionEmbs)                                              \n",
            "                                                                 \n",
            " Transformer/encoderblock_0  ((None, 257, 768),        7087872   \n",
            "  (TransformerBlock)          (None, 12, None, None)             \n",
            "                             )                                   \n",
            "                                                                 \n",
            " Transformer/encoderblock_1  ((None, 257, 768),        7087872   \n",
            "  (TransformerBlock)          (None, 12, None, None)             \n",
            "                             )                                   \n",
            "                                                                 \n",
            " Transformer/encoderblock_2  ((None, 257, 768),        7087872   \n",
            "  (TransformerBlock)          (None, 12, None, None)             \n",
            "                             )                                   \n",
            "                                                                 \n",
            " Transformer/encoderblock_3  ((None, 257, 768),        7087872   \n",
            "  (TransformerBlock)          (None, 12, None, None)             \n",
            "                             )                                   \n",
            "                                                                 \n",
            " Transformer/encoderblock_4  ((None, 257, 768),        7087872   \n",
            "  (TransformerBlock)          (None, 12, None, None)             \n",
            "                             )                                   \n",
            "                                                                 \n",
            " Transformer/encoderblock_5  ((None, 257, 768),        7087872   \n",
            "  (TransformerBlock)          (None, 12, None, None)             \n",
            "                             )                                   \n",
            "                                                                 \n",
            " Transformer/encoderblock_6  ((None, 257, 768),        7087872   \n",
            "  (TransformerBlock)          (None, 12, None, None)             \n",
            "                             )                                   \n",
            "                                                                 \n",
            " Transformer/encoderblock_7  ((None, 257, 768),        7087872   \n",
            "  (TransformerBlock)          (None, 12, None, None)             \n",
            "                             )                                   \n",
            "                                                                 \n",
            " Transformer/encoderblock_8  ((None, 257, 768),        7087872   \n",
            "  (TransformerBlock)          (None, 12, None, None)             \n",
            "                             )                                   \n",
            "                                                                 \n",
            " Transformer/encoderblock_9  ((None, 257, 768),        7087872   \n",
            "  (TransformerBlock)          (None, 12, None, None)             \n",
            "                             )                                   \n",
            "                                                                 \n",
            " Transformer/encoderblock_1  ((None, 257, 768),        7087872   \n",
            " 0 (TransformerBlock)         (None, 12, None, None)             \n",
            "                             )                                   \n",
            "                                                                 \n",
            " Transformer/encoderblock_1  ((None, 257, 768),        7087872   \n",
            " 1 (TransformerBlock)         (None, 12, None, None)             \n",
            "                             )                                   \n",
            "                                                                 \n",
            " Transformer/encoder_norm (  (None, 257, 768)          1536      \n",
            " LayerNormalization)                                             \n",
            "                                                                 \n",
            " ExtractToken (Lambda)       (None, 768)               0         \n",
            "                                                                 \n",
            "=================================================================\n",
            "Total params: 85844736 (327.47 MB)\n",
            "Trainable params: 85844736 (327.47 MB)\n",
            "Non-trainable params: 0 (0.00 Byte)\n",
            "_________________________________________________________________\n"
          ]
        }
      ]
    },
    {
      "cell_type": "code",
      "source": [
        "model = tf.keras.Sequential([\n",
        "        vit_model,\n",
        "        tf.keras.layers.Flatten(),\n",
        "        tf.keras.layers.BatchNormalization(),\n",
        "        tf.keras.layers.Dense(128, activation = tfa.activations.gelu),\n",
        "        tf.keras.layers.BatchNormalization(),\n",
        "        tf.keras.layers.Dense(64, activation = tfa.activations.gelu),\n",
        "        tf.keras.layers.Dense(32, activation = tfa.activations.gelu),\n",
        "        tf.keras.layers.Dense(4, 'softmax')\n",
        "    ],\n",
        "    name = 'vision_transformer')\n",
        "\n",
        "model.summary()"
      ],
      "metadata": {
        "colab": {
          "base_uri": "https://localhost:8080/"
        },
        "id": "lMCtPR-Fxw3M",
        "outputId": "8d63fb01-055e-4330-92ca-874b1a847b82"
      },
      "execution_count": null,
      "outputs": [
        {
          "output_type": "stream",
          "name": "stdout",
          "text": [
            "Model: \"vision_transformer\"\n",
            "_________________________________________________________________\n",
            " Layer (type)                Output Shape              Param #   \n",
            "=================================================================\n",
            " vit-b16 (Functional)        (None, 768)               85844736  \n",
            "                                                                 \n",
            " flatten_1 (Flatten)         (None, 768)               0         \n",
            "                                                                 \n",
            " batch_normalization_2 (Bat  (None, 768)               3072      \n",
            " chNormalization)                                                \n",
            "                                                                 \n",
            " dense_4 (Dense)             (None, 128)               98432     \n",
            "                                                                 \n",
            " batch_normalization_3 (Bat  (None, 128)               512       \n",
            " chNormalization)                                                \n",
            "                                                                 \n",
            " dense_5 (Dense)             (None, 64)                8256      \n",
            "                                                                 \n",
            " dense_6 (Dense)             (None, 32)                2080      \n",
            "                                                                 \n",
            " dense_7 (Dense)             (None, 4)                 132       \n",
            "                                                                 \n",
            "=================================================================\n",
            "Total params: 85957220 (327.90 MB)\n",
            "Trainable params: 85955428 (327.89 MB)\n",
            "Non-trainable params: 1792 (7.00 KB)\n",
            "_________________________________________________________________\n"
          ]
        }
      ]
    },
    {
      "cell_type": "code",
      "source": [
        "model.eval()"
      ],
      "metadata": {
        "colab": {
          "base_uri": "https://localhost:8080/",
          "height": 141
        },
        "id": "S2d-MRsyr_Oa",
        "outputId": "16d25304-0ad7-457c-b25d-1aba1d751a74"
      },
      "execution_count": null,
      "outputs": [
        {
          "output_type": "error",
          "ename": "AttributeError",
          "evalue": "'Sequential' object has no attribute 'eval'",
          "traceback": [
            "\u001b[0;31m---------------------------------------------------------------------------\u001b[0m",
            "\u001b[0;31mAttributeError\u001b[0m                            Traceback (most recent call last)",
            "\u001b[0;32m<ipython-input-19-67f96fad7f04>\u001b[0m in \u001b[0;36m<cell line: 1>\u001b[0;34m()\u001b[0m\n\u001b[0;32m----> 1\u001b[0;31m \u001b[0mmodel\u001b[0m\u001b[0;34m.\u001b[0m\u001b[0meval\u001b[0m\u001b[0;34m(\u001b[0m\u001b[0;34m)\u001b[0m\u001b[0;34m\u001b[0m\u001b[0;34m\u001b[0m\u001b[0m\n\u001b[0m",
            "\u001b[0;31mAttributeError\u001b[0m: 'Sequential' object has no attribute 'eval'"
          ]
        }
      ]
    },
    {
      "cell_type": "code",
      "source": [
        "model.compile(optimizer = 'adam',\n",
        "              loss = tf.keras.losses.CategoricalCrossentropy(label_smoothing = 0.2),\n",
        "              metrics = ['accuracy'])"
      ],
      "metadata": {
        "id": "E82YfO8Jz7bP"
      },
      "execution_count": null,
      "outputs": []
    },
    {
      "cell_type": "code",
      "source": [
        "early_stopping_callbacks = tf.keras.callbacks.EarlyStopping(patience = 15, restore_best_weights = True, verbose = 1)\n",
        "\n",
        "STEP_SIZE_TRAIN = train_data.n // train_data.batch_size\n",
        "STEP_SIZE_VALID = valid_data.n // valid_data.batch_size\n",
        "\n"
      ],
      "metadata": {
        "id": "KQ9nXYGByStF"
      },
      "execution_count": null,
      "outputs": []
    },
    {
      "cell_type": "code",
      "source": [
        "history = model.fit(x = train_data,\n",
        "          steps_per_epoch = STEP_SIZE_TRAIN,\n",
        "          validation_data = valid_data,\n",
        "          validation_steps = STEP_SIZE_VALID,\n",
        "          epochs = 30,\n",
        "          callbacks = early_stopping_callbacks)"
      ],
      "metadata": {
        "colab": {
          "base_uri": "https://localhost:8080/"
        },
        "id": "AHCqwfI1z0Bd",
        "outputId": "a602ca6f-783a-486e-87c3-e237e9c04345"
      },
      "execution_count": null,
      "outputs": [
        {
          "output_type": "stream",
          "name": "stdout",
          "text": [
            "Epoch 1/30\n",
            "59/59 [==============================] - 160s 2s/step - loss: 1.1800 - accuracy: 0.5575 - val_loss: 1.8659 - val_accuracy: 0.3521\n",
            "Epoch 2/30\n",
            "59/59 [==============================] - 112s 2s/step - loss: 1.0432 - accuracy: 0.6677 - val_loss: 1.1861 - val_accuracy: 0.5354\n",
            "Epoch 3/30\n",
            "59/59 [==============================] - 113s 2s/step - loss: 0.9748 - accuracy: 0.7334 - val_loss: 1.0940 - val_accuracy: 0.6938\n",
            "Epoch 4/30\n",
            "59/59 [==============================] - 111s 2s/step - loss: 0.9482 - accuracy: 0.7516 - val_loss: 1.4702 - val_accuracy: 0.4021\n",
            "Epoch 5/30\n",
            "59/59 [==============================] - 113s 2s/step - loss: 0.9427 - accuracy: 0.7472 - val_loss: 1.4324 - val_accuracy: 0.6042\n",
            "Epoch 6/30\n",
            "59/59 [==============================] - 113s 2s/step - loss: 0.9153 - accuracy: 0.7806 - val_loss: 1.1184 - val_accuracy: 0.6979\n",
            "Epoch 7/30\n",
            "59/59 [==============================] - 113s 2s/step - loss: 0.9096 - accuracy: 0.7748 - val_loss: 1.1639 - val_accuracy: 0.6562\n",
            "Epoch 8/30\n",
            "59/59 [==============================] - 113s 2s/step - loss: 0.9157 - accuracy: 0.7758 - val_loss: 1.0089 - val_accuracy: 0.6729\n",
            "Epoch 9/30\n",
            "59/59 [==============================] - 113s 2s/step - loss: 0.8997 - accuracy: 0.7827 - val_loss: 0.9800 - val_accuracy: 0.7500\n",
            "Epoch 10/30\n",
            "59/59 [==============================] - 113s 2s/step - loss: 0.8966 - accuracy: 0.7817 - val_loss: 1.4836 - val_accuracy: 0.5042\n",
            "Epoch 11/30\n",
            "59/59 [==============================] - 111s 2s/step - loss: 0.9019 - accuracy: 0.7811 - val_loss: 1.3177 - val_accuracy: 0.4812\n",
            "Epoch 12/30\n",
            "59/59 [==============================] - 113s 2s/step - loss: 0.8706 - accuracy: 0.8018 - val_loss: 1.0540 - val_accuracy: 0.7250\n",
            "Epoch 13/30\n",
            "59/59 [==============================] - 111s 2s/step - loss: 0.8768 - accuracy: 0.8034 - val_loss: 1.0650 - val_accuracy: 0.6438\n",
            "Epoch 14/30\n",
            "59/59 [==============================] - 111s 2s/step - loss: 0.8791 - accuracy: 0.7992 - val_loss: 1.0634 - val_accuracy: 0.6708\n",
            "Epoch 15/30\n",
            "59/59 [==============================] - 113s 2s/step - loss: 0.8587 - accuracy: 0.8161 - val_loss: 1.2408 - val_accuracy: 0.6104\n",
            "Epoch 16/30\n",
            "59/59 [==============================] - 113s 2s/step - loss: 0.8486 - accuracy: 0.8241 - val_loss: 1.3067 - val_accuracy: 0.6042\n",
            "Epoch 17/30\n",
            "59/59 [==============================] - 113s 2s/step - loss: 0.8548 - accuracy: 0.8166 - val_loss: 0.9706 - val_accuracy: 0.7521\n",
            "Epoch 18/30\n",
            "59/59 [==============================] - 113s 2s/step - loss: 0.8491 - accuracy: 0.8256 - val_loss: 0.9559 - val_accuracy: 0.7375\n",
            "Epoch 19/30\n",
            "59/59 [==============================] - 112s 2s/step - loss: 0.8550 - accuracy: 0.8124 - val_loss: 0.9078 - val_accuracy: 0.7708\n",
            "Epoch 20/30\n",
            "59/59 [==============================] - 113s 2s/step - loss: 0.8481 - accuracy: 0.8304 - val_loss: 1.3167 - val_accuracy: 0.6062\n",
            "Epoch 21/30\n",
            "59/59 [==============================] - 113s 2s/step - loss: 0.8482 - accuracy: 0.8225 - val_loss: 1.0500 - val_accuracy: 0.6771\n",
            "Epoch 22/30\n",
            "59/59 [==============================] - 113s 2s/step - loss: 0.8438 - accuracy: 0.8294 - val_loss: 0.9769 - val_accuracy: 0.7542\n",
            "Epoch 23/30\n",
            "59/59 [==============================] - 113s 2s/step - loss: 0.8629 - accuracy: 0.8092 - val_loss: 0.9121 - val_accuracy: 0.7854\n",
            "Epoch 24/30\n",
            "59/59 [==============================] - 111s 2s/step - loss: 0.8490 - accuracy: 0.8262 - val_loss: 0.9975 - val_accuracy: 0.7083\n",
            "Epoch 25/30\n",
            "59/59 [==============================] - 112s 2s/step - loss: 0.8402 - accuracy: 0.8304 - val_loss: 0.9210 - val_accuracy: 0.7792\n",
            "Epoch 26/30\n",
            "59/59 [==============================] - 111s 2s/step - loss: 0.8417 - accuracy: 0.8256 - val_loss: 0.9947 - val_accuracy: 0.7292\n",
            "Epoch 27/30\n",
            "59/59 [==============================] - 113s 2s/step - loss: 0.8509 - accuracy: 0.8230 - val_loss: 1.1909 - val_accuracy: 0.5708\n",
            "Epoch 28/30\n",
            "59/59 [==============================] - 111s 2s/step - loss: 0.8424 - accuracy: 0.8235 - val_loss: 1.3089 - val_accuracy: 0.5667\n",
            "Epoch 29/30\n",
            "59/59 [==============================] - 113s 2s/step - loss: 0.8320 - accuracy: 0.8315 - val_loss: 1.1869 - val_accuracy: 0.6438\n",
            "Epoch 30/30\n",
            "59/59 [==============================] - 111s 2s/step - loss: 0.8159 - accuracy: 0.8458 - val_loss: 1.0824 - val_accuracy: 0.7292\n"
          ]
        }
      ]
    },
    {
      "cell_type": "code",
      "source": [
        "plt.figure(figsize=(10,4))\n",
        "plt.plot(history.history['accuracy'])\n",
        "plt.plot(history.history['val_accuracy'])\n",
        "plt.title('Model ViT-B16')\n",
        "plt.ylabel('akurasi')\n",
        "plt.xlabel('epoch')\n",
        "plt.legend(['train', 'test'], loc='upper left')\n",
        "plt.grid(True)\n",
        "plt.show()\n",
        "\n",
        "print()"
      ],
      "metadata": {
        "colab": {
          "base_uri": "https://localhost:8080/",
          "height": 427
        },
        "id": "tv8fwFCFDxLB",
        "outputId": "7e246517-b748-41e2-b629-c987919dcc1b"
      },
      "execution_count": null,
      "outputs": [
        {
          "output_type": "display_data",
          "data": {
            "text/plain": [
              "<Figure size 1000x400 with 1 Axes>"
            ],
            "image/png": "[encoded data removed]"
          },
          "metadata": {}
        },
        {
          "output_type": "stream",
          "name": "stdout",
          "text": [
            "\n"
          ]
        }
      ]
    }
  ]
}