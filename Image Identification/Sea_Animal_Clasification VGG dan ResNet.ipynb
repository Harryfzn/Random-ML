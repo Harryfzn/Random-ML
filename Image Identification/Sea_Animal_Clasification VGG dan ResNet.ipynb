{
  "cells": [
    {
      "cell_type": "code",
      "execution_count": 6,
      "metadata": {
        "id": "D-r3-m4I2ha_"
      },
      "outputs": [],
      "source": [
        "import matplotlib.pyplot as plt\n",
        "import os\n",
        "from google.colab import files\n",
        "\n",
        "import zipfile\n",
        "import os\n",
        "import shutil\n",
        "import tensorflow as tf\n",
        "import random"
      ]
    },
    {
      "cell_type": "code",
      "execution_count": 10,
      "metadata": {
        "colab": {
          "base_uri": "https://localhost:8080/",
          "height": 73
        },
        "id": "uPXKiz4avK0z",
        "outputId": "612edac3-8294-4d0c-f58e-27510e625f95"
      },
      "outputs": [
        {
          "data": {
            "text/html": [
              "\n",
              "     <input type=\"file\" id=\"files-eb551ae1-a23c-4bcc-970e-32faf8521a0c\" name=\"files[]\" multiple disabled\n",
              "        style=\"border:none\" />\n",
              "     <output id=\"result-eb551ae1-a23c-4bcc-970e-32faf8521a0c\">\n",
              "      Upload widget is only available when the cell has been executed in the\n",
              "      current browser session. Please rerun this cell to enable.\n",
              "      </output>\n",
              "      <script>// Copyright 2017 Google LLC\n",
              "//\n",
              "// Licensed under the Apache License, Version 2.0 (the \"License\");\n",
              "// you may not use this file except in compliance with the License.\n",
              "// You may obtain a copy of the License at\n",
              "//\n",
              "//      http://www.apache.org/licenses/LICENSE-2.0\n",
              "//\n",
              "// Unless required by applicable law or agreed to in writing, software\n",
              "// distributed under the License is distributed on an \"AS IS\" BASIS,\n",
              "// WITHOUT WARRANTIES OR CONDITIONS OF ANY KIND, either express or implied.\n",
              "// See the License for the specific language governing permissions and\n",
              "// limitations under the License.\n",
              "\n",
              "/**\n",
              " * @fileoverview Helpers for google.colab Python module.\n",
              " */\n",
              "(function(scope) {\n",
              "function span(text, styleAttributes = {}) {\n",
              "  const element = document.createElement('span');\n",
              "  element.textContent = text;\n",
              "  for (const key of Object.keys(styleAttributes)) {\n",
              "    element.style[key] = styleAttributes[key];\n",
              "  }\n",
              "  return element;\n",
              "}\n",
              "\n",
              "// Max number of bytes which will be uploaded at a time.\n",
              "const MAX_PAYLOAD_SIZE = 100 * 1024;\n",
              "\n",
              "function _uploadFiles(inputId, outputId) {\n",
              "  const steps = uploadFilesStep(inputId, outputId);\n",
              "  const outputElement = document.getElementById(outputId);\n",
              "  // Cache steps on the outputElement to make it available for the next call\n",
              "  // to uploadFilesContinue from Python.\n",
              "  outputElement.steps = steps;\n",
              "\n",
              "  return _uploadFilesContinue(outputId);\n",
              "}\n",
              "\n",
              "// This is roughly an async generator (not supported in the browser yet),\n",
              "// where there are multiple asynchronous steps and the Python side is going\n",
              "// to poll for completion of each step.\n",
              "// This uses a Promise to block the python side on completion of each step,\n",
              "// then passes the result of the previous step as the input to the next step.\n",
              "function _uploadFilesContinue(outputId) {\n",
              "  const outputElement = document.getElementById(outputId);\n",
              "  const steps = outputElement.steps;\n",
              "\n",
              "  const next = steps.next(outputElement.lastPromiseValue);\n",
              "  return Promise.resolve(next.value.promise).then((value) => {\n",
              "    // Cache the last promise value to make it available to the next\n",
              "    // step of the generator.\n",
              "    outputElement.lastPromiseValue = value;\n",
              "    return next.value.response;\n",
              "  });\n",
              "}\n",
              "\n",
              "/**\n",
              " * Generator function which is called between each async step of the upload\n",
              " * process.\n",
              " * @param {string} inputId Element ID of the input file picker element.\n",
              " * @param {string} outputId Element ID of the output display.\n",
              " * @return {!Iterable<!Object>} Iterable of next steps.\n",
              " */\n",
              "function* uploadFilesStep(inputId, outputId) {\n",
              "  const inputElement = document.getElementById(inputId);\n",
              "  inputElement.disabled = false;\n",
              "\n",
              "  const outputElement = document.getElementById(outputId);\n",
              "  outputElement.innerHTML = '';\n",
              "\n",
              "  const pickedPromise = new Promise((resolve) => {\n",
              "    inputElement.addEventListener('change', (e) => {\n",
              "      resolve(e.target.files);\n",
              "    });\n",
              "  });\n",
              "\n",
              "  const cancel = document.createElement('button');\n",
              "  inputElement.parentElement.appendChild(cancel);\n",
              "  cancel.textContent = 'Cancel upload';\n",
              "  const cancelPromise = new Promise((resolve) => {\n",
              "    cancel.onclick = () => {\n",
              "      resolve(null);\n",
              "    };\n",
              "  });\n",
              "\n",
              "  // Wait for the user to pick the files.\n",
              "  const files = yield {\n",
              "    promise: Promise.race([pickedPromise, cancelPromise]),\n",
              "    response: {\n",
              "      action: 'starting',\n",
              "    }\n",
              "  };\n",
              "\n",
              "  cancel.remove();\n",
              "\n",
              "  // Disable the input element since further picks are not allowed.\n",
              "  inputElement.disabled = true;\n",
              "\n",
              "  if (!files) {\n",
              "    return {\n",
              "      response: {\n",
              "        action: 'complete',\n",
              "      }\n",
              "    };\n",
              "  }\n",
              "\n",
              "  for (const file of files) {\n",
              "    const li = document.createElement('li');\n",
              "    li.append(span(file.name, {fontWeight: 'bold'}));\n",
              "    li.append(span(\n",
              "        `(${file.type || 'n/a'}) - ${file.size} bytes, ` +\n",
              "        `last modified: ${\n",
              "            file.lastModifiedDate ? file.lastModifiedDate.toLocaleDateString() :\n",
              "                                    'n/a'} - `));\n",
              "    const percent = span('0% done');\n",
              "    li.appendChild(percent);\n",
              "\n",
              "    outputElement.appendChild(li);\n",
              "\n",
              "    const fileDataPromise = new Promise((resolve) => {\n",
              "      const reader = new FileReader();\n",
              "      reader.onload = (e) => {\n",
              "        resolve(e.target.result);\n",
              "      };\n",
              "      reader.readAsArrayBuffer(file);\n",
              "    });\n",
              "    // Wait for the data to be ready.\n",
              "    let fileData = yield {\n",
              "      promise: fileDataPromise,\n",
              "      response: {\n",
              "        action: 'continue',\n",
              "      }\n",
              "    };\n",
              "\n",
              "    // Use a chunked sending to avoid message size limits. See b/62115660.\n",
              "    let position = 0;\n",
              "    do {\n",
              "      const length = Math.min(fileData.byteLength - position, MAX_PAYLOAD_SIZE);\n",
              "      const chunk = new Uint8Array(fileData, position, length);\n",
              "      position += length;\n",
              "\n",
              "      const base64 = btoa(String.fromCharCode.apply(null, chunk));\n",
              "      yield {\n",
              "        response: {\n",
              "          action: 'append',\n",
              "          file: file.name,\n",
              "          data: base64,\n",
              "        },\n",
              "      };\n",
              "\n",
              "      let percentDone = fileData.byteLength === 0 ?\n",
              "          100 :\n",
              "          Math.round((position / fileData.byteLength) * 100);\n",
              "      percent.textContent = `${percentDone}% done`;\n",
              "\n",
              "    } while (position < fileData.byteLength);\n",
              "  }\n",
              "\n",
              "  // All done.\n",
              "  yield {\n",
              "    response: {\n",
              "      action: 'complete',\n",
              "    }\n",
              "  };\n",
              "}\n",
              "\n",
              "scope.google = scope.google || {};\n",
              "scope.google.colab = scope.google.colab || {};\n",
              "scope.google.colab._files = {\n",
              "  _uploadFiles,\n",
              "  _uploadFilesContinue,\n",
              "};\n",
              "})(self);\n",
              "</script> "
            ],
            "text/plain": [
              "<IPython.core.display.HTML object>"
            ]
          },
          "metadata": {},
          "output_type": "display_data"
        },
        {
          "name": "stdout",
          "output_type": "stream",
          "text": [
            "Saving kaggle.json to kaggle.json\n"
          ]
        }
      ],
      "source": [
        "#import data\n",
        "from google.colab import files\n",
        "files.upload()\n",
        "!rm -r ~/.kaggle\n",
        "!mkdir ~/.kaggle\n",
        "!mv ./kaggle.json ~/.kaggle/\n",
        "!chmod 600 ~/.kaggle/kaggle.json"
      ]
    },
    {
      "cell_type": "code",
      "execution_count": null,
      "metadata": {
        "id": "igIfEi2hxy_B"
      },
      "outputs": [],
      "source": []
    },
    {
      "cell_type": "markdown",
      "metadata": {
        "id": "nHf8yd_P6Llv"
      },
      "source": [
        "## **Data Preparation**"
      ]
    },
    {
      "cell_type": "code",
      "execution_count": 11,
      "metadata": {
        "colab": {
          "base_uri": "https://localhost:8080/"
        },
        "id": "lG5bcb4HvY1p",
        "outputId": "f0f0be78-632e-4e16-fb03-e4bf98b25202"
      },
      "outputs": [
        {
          "name": "stdout",
          "output_type": "stream",
          "text": [
            "Dataset URL: https://www.kaggle.com/datasets/vencerlanz09/sea-animals-image-dataste\n",
            "License(s): other\n",
            "sea-animals-image-dataste.zip: Skipping, found more recently modified local copy (use --force to force download)\n"
          ]
        }
      ],
      "source": [
        "!kaggle datasets download -d vencerlanz09/sea-animals-image-dataste"
      ]
    },
    {
      "cell_type": "code",
      "execution_count": 12,
      "metadata": {
        "colab": {
          "base_uri": "https://localhost:8080/"
        },
        "id": "YmqSe63bvgxo",
        "outputId": "2b564999-a3ce-4b87-981f-45b047b77811"
      },
      "outputs": [
        {
          "name": "stdout",
          "output_type": "stream",
          "text": [
            "File diekstrak ke folder: /content/dataset\n"
          ]
        }
      ],
      "source": [
        "\n",
        "\n",
        "# Path ke file ZIP\n",
        "zip_path = '/content/sea-animals-image-dataste.zip'\n",
        "\n",
        "# Nama folder baru untuk ekstraksi\n",
        "extract_folder_name = 'dataset'\n",
        "\n",
        "# Path lengkap ke folder ekstraksi\n",
        "extract_folder_path = os.path.join('/content', extract_folder_name)\n",
        "\n",
        "# Membuat folder ekstraksi jika belum ada\n",
        "os.makedirs(extract_folder_path, exist_ok=True)\n",
        "\n",
        "# Membuka file ZIP dan mengekstraknya ke folder baru\n",
        "with zipfile.ZipFile(zip_path, 'r') as zip_ref:\n",
        "    zip_ref.extractall(extract_folder_path)\n",
        "\n",
        "print(f\"File diekstrak ke folder: {extract_folder_path}\")\n"
      ]
    },
    {
      "cell_type": "code",
      "execution_count": 13,
      "metadata": {
        "colab": {
          "base_uri": "https://localhost:8080/"
        },
        "id": "F7iN0n-qvmsk",
        "outputId": "8a1a2d17-b82f-473f-ec3d-402778f476e9"
      },
      "outputs": [
        {
          "name": "stdout",
          "output_type": "stream",
          "text": [
            "['Clams', 'Sharks', 'Turtle_Tortoise', 'Penguin', 'Sea Urchins', 'Corals', 'Nudibranchs', 'Starfish', 'Shrimp', 'Fish', 'Lobster', 'Sea Rays', 'Squid', 'Whale', 'Jelly Fish', 'Seal', 'Crabs', 'Seahorse', 'Puffers', 'Octopus', 'Otter', 'Eel', 'Dolphin']\n"
          ]
        }
      ],
      "source": [
        "# Walk through each directory\\n\n",
        "import os\n",
        "print(os.listdir(\"/content/dataset\"))"
      ]
    },
    {
      "cell_type": "code",
      "execution_count": 14,
      "metadata": {
        "id": "IANNVHLRv6Xk"
      },
      "outputs": [],
      "source": [
        "class_names= ['Fish', 'Octopus', 'Jelly Fish', 'Crabs']"
      ]
    },
    {
      "cell_type": "code",
      "execution_count": 15,
      "metadata": {
        "colab": {
          "base_uri": "https://localhost:8080/",
          "height": 211
        },
        "id": "Zn-5C9XzwM7T",
        "outputId": "b92c3f26-0ffa-4433-839b-297d03e6c14b"
      },
      "outputs": [
        {
          "ename": "FileExistsError",
          "evalue": "[Errno 17] File exists: '/content/dataset-2'",
          "output_type": "error",
          "traceback": [
            "\u001b[0;31m---------------------------------------------------------------------------\u001b[0m",
            "\u001b[0;31mFileExistsError\u001b[0m                           Traceback (most recent call last)",
            "\u001b[0;32m<ipython-input-15-86eb10f4c1a4>\u001b[0m in \u001b[0;36m<cell line: 10>\u001b[0;34m()\u001b[0m\n\u001b[1;32m      8\u001b[0m \u001b[0;31m# new paths for training and validation sets\u001b[0m\u001b[0;34m\u001b[0m\u001b[0;34m\u001b[0m\u001b[0m\n\u001b[1;32m      9\u001b[0m \u001b[0mbase_dir\u001b[0m \u001b[0;34m=\u001b[0m \u001b[0;34m\"/content/dataset-2\"\u001b[0m\u001b[0;34m\u001b[0m\u001b[0;34m\u001b[0m\u001b[0m\n\u001b[0;32m---> 10\u001b[0;31m \u001b[0mos\u001b[0m\u001b[0;34m.\u001b[0m\u001b[0mmkdir\u001b[0m\u001b[0;34m(\u001b[0m\u001b[0mbase_dir\u001b[0m\u001b[0;34m)\u001b[0m\u001b[0;34m\u001b[0m\u001b[0;34m\u001b[0m\u001b[0m\n\u001b[0m\u001b[1;32m     11\u001b[0m \u001b[0;34m\u001b[0m\u001b[0m\n\u001b[1;32m     12\u001b[0m \u001b[0;31m# new folder for training set\u001b[0m\u001b[0;34m\u001b[0m\u001b[0;34m\u001b[0m\u001b[0m\n",
            "\u001b[0;31mFileExistsError\u001b[0m: [Errno 17] File exists: '/content/dataset-2'"
          ]
        }
      ],
      "source": [
        "import os\n",
        "import shutil\n",
        "import random\n",
        "\n",
        "# original path\n",
        "original_dataset_dir =\"/content/dataset\"\n",
        "\n",
        "# new paths for training and validation sets\n",
        "base_dir = \"/content/dataset-2\"\n",
        "os.mkdir(base_dir)\n",
        "\n",
        "# new folder for training set\n",
        "train_dir = os.path.join(base_dir, 'train')\n",
        "os.mkdir(train_dir)\n",
        "\n",
        "# new folder for validation set\n",
        "validation_dir = os.path.join(base_dir, 'validation')\n",
        "os.mkdir(validation_dir)\n",
        "\n",
        "# Eğitim ve validation için her bir sınıfın klasörleri\n",
        "classes = class_names\n",
        "\n",
        "for cls in classes:\n",
        "    cls_dir = os.path.join(original_dataset_dir, cls)\n",
        "    files = os.listdir(cls_dir)\n",
        "    random.shuffle(files)\n",
        "\n",
        "    # split dataset to training and validation\n",
        "    split_point = int(0.8 * len(files))   # training percentage is 0.7 --> %70\n",
        "    train_files = files[:split_point]\n",
        "    validation_files = files[split_point:]\n",
        "\n",
        "    train_cls_dir = os.path.join(train_dir, cls)\n",
        "    os.makedirs(train_cls_dir)\n",
        "\n",
        "    validation_cls_dir = os.path.join(validation_dir, cls)\n",
        "    os.makedirs(validation_cls_dir)\n",
        "\n",
        "    # copy files to the folders\n",
        "    for file in train_files:\n",
        "        src = os.path.join(cls_dir, file)\n",
        "        dst = os.path.join(train_cls_dir, file)\n",
        "        shutil.copyfile(src, dst)\n",
        "\n",
        "    for file in validation_files:\n",
        "        src = os.path.join(cls_dir, file)\n",
        "        dst = os.path.join(validation_cls_dir, file)\n",
        "        shutil.copyfile(src, dst)"
      ]
    },
    {
      "cell_type": "code",
      "execution_count": 17,
      "metadata": {
        "colab": {
          "base_uri": "https://localhost:8080/"
        },
        "id": "YUsBwoJex0Ip",
        "outputId": "1591547a-5468-45bd-dc97-a6b233c2cfcb"
      },
      "outputs": [
        {
          "name": "stdout",
          "output_type": "stream",
          "text": [
            "Found 1919 images belonging to 4 classes.\n",
            "Found 481 images belonging to 4 classes.\n"
          ]
        }
      ],
      "source": [
        "from tensorflow.keras.preprocessing.image import ImageDataGenerator\n",
        "\n",
        "training_dir=\"/content/dataset-2/train\"\n",
        "validation_dir=\"/content/dataset-2/validation\"\n",
        "\n",
        "image_size = (244,244)\n",
        "batch_size = 32\n",
        "seed = 999\n",
        "\n",
        "train_datagen = ImageDataGenerator(\n",
        "    rescale=1./255,\n",
        "    rotation_range=40,\n",
        "    width_shift_range=0.2,\n",
        "    height_shift_range=0.2,\n",
        "    shear_range=0.2,\n",
        "    zoom_range=0.2,\n",
        "    horizontal_flip=True)\n",
        "\n",
        "validation_datagen = ImageDataGenerator(rescale=1./255)\n",
        "\n",
        "\n",
        "\n",
        "train_data = train_datagen.flow_from_directory(\n",
        "    training_dir,\n",
        "    class_mode='sparse',\n",
        "    target_size=image_size,\n",
        "    batch_size=batch_size,\n",
        "    seed=seed\n",
        ")\n",
        "\n",
        "valid_data = validation_datagen.flow_from_directory(\n",
        "    validation_dir,\n",
        "    class_mode='sparse',\n",
        "    target_size=image_size,\n",
        "    batch_size=batch_size,\n",
        "    seed=seed\n",
        ")"
      ]
    },
    {
      "cell_type": "markdown",
      "metadata": {
        "id": "TWiK-2YP6lwE"
      },
      "source": [
        "# **Modeling**"
      ]
    },
    {
      "cell_type": "markdown",
      "metadata": {
        "id": "JE9jPdGe6fRm"
      },
      "source": [
        "# **VGG**"
      ]
    },
    {
      "cell_type": "code",
      "execution_count": 24,
      "metadata": {
        "colab": {
          "base_uri": "https://localhost:8080/"
        },
        "id": "LpfwFxgX5tRf",
        "outputId": "e02d14f3-5c1b-4408-d7d6-0a7939b6107c"
      },
      "outputs": [
        {
          "name": "stdout",
          "output_type": "stream",
          "text": [
            "Downloading data from https://storage.googleapis.com/tensorflow/keras-applications/vgg16/vgg16_weights_tf_dim_ordering_tf_kernels_notop.h5\n",
            "58889256/58889256 [==============================] - 4s 0us/step\n",
            "Model: \"sequential_3\"\n",
            "_________________________________________________________________\n",
            " Layer (type)                Output Shape              Param #   \n",
            "=================================================================\n",
            " vgg16 (Functional)          (None, 7, 7, 512)         14714688  \n",
            "                                                                 \n",
            " flatten_3 (Flatten)         (None, 25088)             0         \n",
            "                                                                 \n",
            " dense_6 (Dense)             (None, 256)               6422784   \n",
            "                                                                 \n",
            " dropout_3 (Dropout)         (None, 256)               0         \n",
            "                                                                 \n",
            " dense_7 (Dense)             (None, 4)                 1028      \n",
            "                                                                 \n",
            "=================================================================\n",
            "Total params: 21138500 (80.64 MB)\n",
            "Trainable params: 21138500 (80.64 MB)\n",
            "Non-trainable params: 0 (0.00 Byte)\n",
            "_________________________________________________________________\n"
          ]
        }
      ],
      "source": [
        "from tensorflow.keras.applications import VGG16\n",
        "\n",
        "# Load pre-trained VGG16 model without top layer\n",
        "conv_base = VGG16(weights='imagenet', include_top=False, input_shape=(244, 244, 3))\n",
        "\n",
        "vgg_model = tf.keras.models.Sequential([\n",
        "  conv_base,\n",
        "  tf.keras.layers.Flatten(),\n",
        "  tf.keras.layers.Dense(256, activation='relu'),\n",
        "  tf.keras.layers.Dropout(0.5),\n",
        "  tf.keras.layers.Dense(4, activation='softmax')\n",
        "])\n",
        "\n",
        "# Print model summary\n",
        "vgg_model.summary()\n"
      ]
    },
    {
      "cell_type": "code",
      "execution_count": 25,
      "metadata": {
        "id": "JgL5ViXT63uG"
      },
      "outputs": [],
      "source": [
        "vgg_model.compile(optimizer='adam',\n",
        "              loss='sparse_categorical_crossentropy',\n",
        "              metrics=['accuracy'])"
      ]
    },
    {
      "cell_type": "code",
      "execution_count": 26,
      "metadata": {
        "colab": {
          "base_uri": "https://localhost:8080/"
        },
        "id": "pESeIgTe693M",
        "outputId": "bf2e888f-e57c-4abd-9233-9bc1b0c62c6e"
      },
      "outputs": [
        {
          "name": "stdout",
          "output_type": "stream",
          "text": [
            "Epoch 1/20\n",
            "60/60 [==============================] - 94s 1s/step - loss: 2.3834 - accuracy: 0.3278 - val_loss: 1.3673 - val_accuracy: 0.3514\n",
            "Epoch 2/20\n",
            "60/60 [==============================] - 43s 710ms/step - loss: 1.2438 - accuracy: 0.3523 - val_loss: 1.1003 - val_accuracy: 0.3597\n",
            "Epoch 3/20\n",
            "60/60 [==============================] - 52s 858ms/step - loss: 1.0969 - accuracy: 0.4977 - val_loss: 1.1727 - val_accuracy: 0.4823\n",
            "Epoch 4/20\n",
            "60/60 [==============================] - 42s 700ms/step - loss: 1.0537 - accuracy: 0.5388 - val_loss: 1.0707 - val_accuracy: 0.4387\n",
            "Epoch 5/20\n",
            "60/60 [==============================] - 42s 703ms/step - loss: 0.9957 - accuracy: 0.5779 - val_loss: 0.9302 - val_accuracy: 0.5800\n",
            "Epoch 6/20\n",
            "60/60 [==============================] - 42s 696ms/step - loss: 0.9747 - accuracy: 0.5816 - val_loss: 0.9097 - val_accuracy: 0.6071\n",
            "Epoch 7/20\n",
            "60/60 [==============================] - 43s 708ms/step - loss: 0.9225 - accuracy: 0.6029 - val_loss: 0.8489 - val_accuracy: 0.6674\n",
            "Epoch 8/20\n",
            "60/60 [==============================] - 44s 723ms/step - loss: 0.9111 - accuracy: 0.6311 - val_loss: 0.8673 - val_accuracy: 0.6383\n",
            "Epoch 9/20\n",
            "60/60 [==============================] - 42s 700ms/step - loss: 1.1201 - accuracy: 0.5357 - val_loss: 1.0357 - val_accuracy: 0.5322\n",
            "Epoch 10/20\n",
            "60/60 [==============================] - 42s 696ms/step - loss: 0.9889 - accuracy: 0.5826 - val_loss: 0.8461 - val_accuracy: 0.6590\n",
            "Epoch 11/20\n",
            "60/60 [==============================] - 43s 710ms/step - loss: 0.8882 - accuracy: 0.6258 - val_loss: 0.8105 - val_accuracy: 0.6570\n",
            "Epoch 12/20\n",
            "60/60 [==============================] - 43s 708ms/step - loss: 0.8810 - accuracy: 0.6352 - val_loss: 1.0207 - val_accuracy: 0.5884\n",
            "Epoch 13/20\n",
            "60/60 [==============================] - 43s 711ms/step - loss: 0.8749 - accuracy: 0.6357 - val_loss: 0.7452 - val_accuracy: 0.6778\n",
            "Epoch 14/20\n",
            "60/60 [==============================] - 42s 701ms/step - loss: 0.8437 - accuracy: 0.6587 - val_loss: 0.7745 - val_accuracy: 0.6653\n",
            "Epoch 15/20\n",
            "60/60 [==============================] - 45s 751ms/step - loss: 0.8415 - accuracy: 0.6384 - val_loss: 0.9317 - val_accuracy: 0.6175\n",
            "Epoch 16/20\n",
            "60/60 [==============================] - 42s 693ms/step - loss: 0.8328 - accuracy: 0.6634 - val_loss: 0.8014 - val_accuracy: 0.6362\n",
            "Epoch 17/20\n",
            "60/60 [==============================] - 43s 706ms/step - loss: 0.8136 - accuracy: 0.6686 - val_loss: 0.7513 - val_accuracy: 0.6798\n",
            "Epoch 18/20\n",
            "60/60 [==============================] - 43s 709ms/step - loss: 0.7874 - accuracy: 0.6837 - val_loss: 0.7986 - val_accuracy: 0.6798\n",
            "Epoch 19/20\n",
            "60/60 [==============================] - 43s 709ms/step - loss: 0.8089 - accuracy: 0.6613 - val_loss: 0.7113 - val_accuracy: 0.7173\n",
            "Epoch 20/20\n",
            "60/60 [==============================] - 42s 704ms/step - loss: 0.7642 - accuracy: 0.6931 - val_loss: 0.7150 - val_accuracy: 0.7089\n"
          ]
        }
      ],
      "source": [
        "history = vgg_model.fit(\n",
        "    train_data,\n",
        "    epochs=20,\n",
        "    validation_data = valid_data\n",
        ")"
      ]
    },
    {
      "cell_type": "code",
      "execution_count": 27,
      "metadata": {
        "colab": {
          "base_uri": "https://localhost:8080/",
          "height": 427
        },
        "id": "qL5ZKlG4D-Zz",
        "outputId": "9794869b-c177-4a89-f2fe-367ac93068d2"
      },
      "outputs": [
        {
          "data": {
            "image/png": "[encoded data removed]",
            "text/plain": [
              "<Figure size 1000x400 with 1 Axes>"
            ]
          },
          "metadata": {},
          "output_type": "display_data"
        },
        {
          "name": "stdout",
          "output_type": "stream",
          "text": [
            "\n"
          ]
        }
      ],
      "source": [
        "plt.figure(figsize=(10,4))\n",
        "plt.plot(history.history['accuracy'])\n",
        "plt.plot(history.history['val_accuracy'])\n",
        "plt.title('Model VGG')\n",
        "plt.ylabel('akurasi')\n",
        "plt.xlabel('epoch')\n",
        "plt.legend(['train', 'test'], loc='upper left')\n",
        "plt.grid(True)\n",
        "plt.show()\n",
        "\n",
        "print()"
      ]
    },
    {
      "cell_type": "markdown",
      "metadata": {
        "id": "kO8Fx2BE_mPr"
      },
      "source": [
        "# **ResNet**"
      ]
    },
    {
      "cell_type": "markdown",
      "metadata": {
        "id": "ZVQswu63_q8t"
      },
      "source": []
    },
    {
      "cell_type": "code",
      "execution_count": 7,
      "metadata": {
        "id": "DajUcERWIs_v"
      },
      "outputs": [],
      "source": [
        "pretrained_model= tf.keras.applications.ResNet50(weights='imagenet', include_top=False, input_shape=(244, 244, 3))\n",
        "\n"
      ]
    },
    {
      "cell_type": "code",
      "execution_count": 8,
      "metadata": {
        "colab": {
          "base_uri": "https://localhost:8080/"
        },
        "id": "LVJdEpC5JSZg",
        "outputId": "c1a2a86f-f6c3-40c1-e75e-3d74a9f638b9"
      },
      "outputs": [
        {
          "name": "stdout",
          "output_type": "stream",
          "text": [
            "Model: \"sequential\"\n",
            "_________________________________________________________________\n",
            " Layer (type)                Output Shape              Param #   \n",
            "=================================================================\n",
            " resnet50 (Functional)       (None, 8, 8, 2048)        23587712  \n",
            "                                                                 \n",
            " flatten (Flatten)           (None, 131072)            0         \n",
            "                                                                 \n",
            " dense (Dense)               (None, 512)               67109376  \n",
            "                                                                 \n",
            " dense_1 (Dense)             (None, 4)                 2052      \n",
            "                                                                 \n",
            "=================================================================\n",
            "Total params: 90699140 (345.99 MB)\n",
            "Trainable params: 90646020 (345.79 MB)\n",
            "Non-trainable params: 53120 (207.50 KB)\n",
            "_________________________________________________________________\n"
          ]
        }
      ],
      "source": [
        "ResNet_model = tf.keras.models.Sequential([\n",
        "  pretrained_model,\n",
        "  tf.keras.layers.Flatten(),\n",
        "  tf.keras.layers.Dense(512, activation='relu'),\n",
        "  tf.keras.layers.Dense(4, activation='softmax')\n",
        "])\n",
        "\n",
        "ResNet_model.compile(optimizer='adam',\n",
        "              loss='sparse_categorical_crossentropy',\n",
        "              metrics=['accuracy'])\n",
        "\n",
        "ResNet_model.summary()"
      ]
    },
    {
      "cell_type": "code",
      "execution_count": 18,
      "metadata": {
        "colab": {
          "base_uri": "https://localhost:8080/"
        },
        "id": "vG2j7GCQJjvP",
        "outputId": "1b50b846-d21b-4f3a-f18d-751f7a6c53cc"
      },
      "outputs": [
        {
          "name": "stdout",
          "output_type": "stream",
          "text": [
            "Epoch 1/20\n",
            "60/60 [==============================] - 85s 781ms/step - loss: 6.8172 - accuracy: 0.5836 - val_loss: 417698.5938 - val_accuracy: 0.3514\n",
            "Epoch 2/20\n",
            "60/60 [==============================] - 41s 675ms/step - loss: 1.0227 - accuracy: 0.6154 - val_loss: 2.0270 - val_accuracy: 0.2058\n",
            "Epoch 3/20\n",
            "60/60 [==============================] - 41s 674ms/step - loss: 0.9396 - accuracy: 0.6717 - val_loss: 2.2190 - val_accuracy: 0.3514\n",
            "Epoch 4/20\n",
            "60/60 [==============================] - 40s 671ms/step - loss: 0.9288 - accuracy: 0.6910 - val_loss: 1.4179 - val_accuracy: 0.2058\n",
            "Epoch 5/20\n",
            "60/60 [==============================] - 40s 670ms/step - loss: 0.7895 - accuracy: 0.7264 - val_loss: 1.5151 - val_accuracy: 0.3514\n",
            "Epoch 6/20\n",
            "60/60 [==============================] - 40s 670ms/step - loss: 0.6873 - accuracy: 0.7348 - val_loss: 1.5219 - val_accuracy: 0.4220\n",
            "Epoch 7/20\n",
            "60/60 [==============================] - 41s 671ms/step - loss: 0.6833 - accuracy: 0.7275 - val_loss: 1.4554 - val_accuracy: 0.3514\n",
            "Epoch 8/20\n",
            "60/60 [==============================] - 40s 657ms/step - loss: 0.6643 - accuracy: 0.7358 - val_loss: 1.3387 - val_accuracy: 0.3514\n",
            "Epoch 9/20\n",
            "60/60 [==============================] - 40s 667ms/step - loss: 0.5942 - accuracy: 0.7764 - val_loss: 1.3840 - val_accuracy: 0.3514\n",
            "Epoch 10/20\n",
            "60/60 [==============================] - 40s 668ms/step - loss: 0.5481 - accuracy: 0.7801 - val_loss: 1.3602 - val_accuracy: 0.3514\n",
            "Epoch 11/20\n",
            "60/60 [==============================] - 41s 673ms/step - loss: 0.5315 - accuracy: 0.7947 - val_loss: 1.5073 - val_accuracy: 0.3555\n",
            "Epoch 12/20\n",
            "60/60 [==============================] - 40s 660ms/step - loss: 0.5257 - accuracy: 0.7957 - val_loss: 1.2355 - val_accuracy: 0.4012\n",
            "Epoch 13/20\n",
            "60/60 [==============================] - 41s 675ms/step - loss: 0.4966 - accuracy: 0.8161 - val_loss: 0.9968 - val_accuracy: 0.5863\n",
            "Epoch 14/20\n",
            "60/60 [==============================] - 40s 669ms/step - loss: 0.5048 - accuracy: 0.8129 - val_loss: 1.1119 - val_accuracy: 0.4948\n",
            "Epoch 15/20\n",
            "60/60 [==============================] - 40s 665ms/step - loss: 0.4661 - accuracy: 0.8213 - val_loss: 0.9663 - val_accuracy: 0.5676\n",
            "Epoch 16/20\n",
            "60/60 [==============================] - 40s 658ms/step - loss: 0.4558 - accuracy: 0.8286 - val_loss: 0.7556 - val_accuracy: 0.7110\n",
            "Epoch 17/20\n",
            "60/60 [==============================] - 40s 667ms/step - loss: 0.4687 - accuracy: 0.8176 - val_loss: 0.5105 - val_accuracy: 0.8150\n",
            "Epoch 18/20\n",
            "60/60 [==============================] - 40s 665ms/step - loss: 0.4317 - accuracy: 0.8353 - val_loss: 0.5089 - val_accuracy: 0.8108\n",
            "Epoch 19/20\n",
            "60/60 [==============================] - 40s 668ms/step - loss: 0.4429 - accuracy: 0.8145 - val_loss: 0.5192 - val_accuracy: 0.8025\n",
            "Epoch 20/20\n",
            "60/60 [==============================] - 40s 661ms/step - loss: 0.4017 - accuracy: 0.8510 - val_loss: 0.6677 - val_accuracy: 0.7713\n"
          ]
        }
      ],
      "source": [
        "history = ResNet_model.fit(\n",
        "    train_data,\n",
        "    epochs=20,\n",
        "    validation_data = valid_data\n",
        ")"
      ]
    },
    {
      "cell_type": "code",
      "execution_count": 19,
      "metadata": {
        "colab": {
          "base_uri": "https://localhost:8080/",
          "height": 427
        },
        "id": "P7RhwCoLOG3O",
        "outputId": "1fd37837-f8c7-4521-e1cf-9344798933c8"
      },
      "outputs": [
        {
          "data": {
            "image/png": "[encoded data removed]",
            "text/plain": [
              "<Figure size 1000x400 with 1 Axes>"
            ]
          },
          "metadata": {},
          "output_type": "display_data"
        },
        {
          "name": "stdout",
          "output_type": "stream",
          "text": [
            "\n"
          ]
        }
      ],
      "source": [
        "plt.figure(figsize=(10,4))\n",
        "plt.plot(history.history['accuracy'])\n",
        "plt.plot(history.history['val_accuracy'])\n",
        "plt.title('Model ResNet')\n",
        "plt.ylabel('akurasi')\n",
        "plt.xlabel('epoch')\n",
        "plt.legend(['train', 'test'], loc='upper left')\n",
        "plt.grid(True)\n",
        "plt.show()\n",
        "\n",
        "print()"
      ]
    }
  ],
  "metadata": {
    "accelerator": "GPU",
    "colab": {
      "gpuType": "T4",
      "provenance": []
    },
    "kernelspec": {
      "display_name": "Python 3",
      "name": "python3"
    },
    "language_info": {
      "name": "python"
    }
  },
  "nbformat": 4,
  "nbformat_minor": 0
}
